{
 "metadata": {
  "language_info": {
   "codemirror_mode": {
    "name": "ipython",
    "version": 3
   },
   "file_extension": ".py",
   "mimetype": "text/x-python",
   "name": "python",
   "nbconvert_exporter": "python",
   "pygments_lexer": "ipython3",
   "version": "3.8.3"
  },
  "orig_nbformat": 2,
  "kernelspec": {
   "name": "python383jvsc74a57bd0298b1c999ef95c5d0fbfb467a61f45c41ea5751b587a5d8656432f1a8bcf2176",
   "display_name": "Python 3.8.3 64-bit ('virtual_workspace': conda)"
  }
 },
 "nbformat": 4,
 "nbformat_minor": 2,
 "cells": [
  {
   "cell_type": "code",
   "execution_count": 3,
   "metadata": {},
   "outputs": [],
   "source": [
    "import json\n",
    "f = open(\"t.json\")\n",
    "data = json.loads(f.read())[0]\n"
   ]
  },
  {
   "cell_type": "code",
   "execution_count": 7,
   "metadata": {},
   "outputs": [],
   "source": [
    "def objstr(data):\n",
    "    rep = \"\"\n",
    "    for i in data:\n",
    "        rep = rep + f\"*{i}* : _{data[i]}_ \\n\"\n",
    "    return rep"
   ]
  },
  {
   "cell_type": "code",
   "execution_count": 9,
   "metadata": {},
   "outputs": [
    {
     "output_type": "stream",
     "name": "stdout",
     "text": [
      "*Best MMR* : _2281_ \n*Started Collecting* : _4/21/2021_ \n*Time Played* : _2d 16h 17m 39s_ \n*Wins* : _97_ \n*Win %* : _42.2%_ \n*Kills* : _478_ \n*K/D* : _0.56_ \n\n"
     ]
    }
   ],
   "source": [
    "print(objstr(data['seasonal']['overview']))"
   ]
  }
 ]
}